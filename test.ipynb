{
 "cells": [
  {
   "cell_type": "code",
   "execution_count": 1,
   "metadata": {},
   "outputs": [],
   "source": [
    "# Importing libraries\n",
    "import pandas as pd\n",
    "import numpy as np\n",
    "import xgboost as xgb\n",
    "import lightgbm as lgb\n",
    "import catboost as cat\n",
    "from sklearn.ensemble import GradientBoostingClassifier\n",
    "from sklearn.ensemble import VotingClassifier\n",
    "from sklearn.model_selection import GridSearchCV"
   ]
  },
  {
   "cell_type": "code",
   "execution_count": 2,
   "metadata": {},
   "outputs": [],
   "source": [
    "# Helper function\n",
    "def to_datetime(df):\n",
    "    df['match_dt'] = pd.to_datetime(df['match_dt'], format='%Y-%m-%d')\n",
    "    return df\n",
    "\n",
    "def rm_blankspace(df):\n",
    "    df.rename(columns=lambda x: x.replace(' ', '_'), inplace=True)\n",
    "    return df\n",
    "\n",
    "def data_preprocessing(df):\n",
    "    df = to_datetime(df)\n",
    "    df = rm_blankspace(df)\n",
    "    return df"
   ]
  },
  {
   "cell_type": "code",
   "execution_count": 3,
   "metadata": {},
   "outputs": [],
   "source": [
    "# Importing datset\n",
    "train_data = pd.read_csv('newdata//2//train_data.csv',)\n",
    "\n",
    "test_data = pd.read_csv('newdata//2//test_data.csv')"
   ]
  },
  {
   "cell_type": "code",
   "execution_count": 4,
   "metadata": {},
   "outputs": [],
   "source": [
    "train_data = data_preprocessing(train_data)\n",
    "test_data = data_preprocessing(test_data)"
   ]
  },
  {
   "cell_type": "code",
   "execution_count": 5,
   "metadata": {},
   "outputs": [],
   "source": [
    "cols = list(train_data.columns[14:])[:-1]"
   ]
  },
  {
   "cell_type": "code",
   "execution_count": 6,
   "metadata": {},
   "outputs": [],
   "source": [
    "train_data_test = train_data.copy()\n",
    "train_data_test.sort_values(by='match_dt', inplace=True)\n",
    "X_train, y_train, X_test, y_test = train_data_test[cols][:670], train_data_test['winner_01'][:670], train_data_test[cols][670:], train_data_test['winner_01'][670:]"
   ]
  },
  {
   "cell_type": "code",
   "execution_count": 7,
   "metadata": {},
   "outputs": [
    {
     "name": "stdout",
     "output_type": "stream",
     "text": [
      "Best parameters are {'colsample_bytree': 0.8, 'learning_rate': 0.1, 'max_depth': 7, 'n_estimators': 100}\n",
      "Accuracy: 0.5611510791366906\n"
     ]
    }
   ],
   "source": [
    "# XGBOOST\n",
    "clf_xgb = xgb.XGBClassifier(booster = 'gbtree', random_state=0, n_jobs=-1, verbosity=0, eval_metric='error', objective='binary:logistic')\n",
    "param_xgb = {\n",
    "    'n_estimators': [100, 200, 300, 500, 700, 1000],\n",
    "    'max_depth': [3, 5, 7, 9, 11],\n",
    "    'learning_rate': [0.1, 0.05, 0.01, 0.001],\n",
    "    'colsample_bytree': [0.8, 1.0]\n",
    "}\n",
    "clf_xgb = GridSearchCV(clf_xgb, param_xgb, cv=5, n_jobs=-1)\n",
    "clf_xgb.fit(X_train, y_train)\n",
    "print(f\"Best parameters are {clf_xgb.best_params_}\")\n",
    "y_pred = clf_xgb.predict(X_test)\n",
    "acc = np.mean(y_pred == y_test)\n",
    "print(f'Accuracy: {acc}')"
   ]
  },
  {
   "cell_type": "code",
   "execution_count": 28,
   "metadata": {},
   "outputs": [
    {
     "data": {
      "text/html": [
       "<div>\n",
       "<style scoped>\n",
       "    .dataframe tbody tr th:only-of-type {\n",
       "        vertical-align: middle;\n",
       "    }\n",
       "\n",
       "    .dataframe tbody tr th {\n",
       "        vertical-align: top;\n",
       "    }\n",
       "\n",
       "    .dataframe thead th {\n",
       "        text-align: right;\n",
       "    }\n",
       "</style>\n",
       "<table border=\"1\" class=\"dataframe\">\n",
       "  <thead>\n",
       "    <tr style=\"text-align: right;\">\n",
       "      <th></th>\n",
       "      <th>feat_name</th>\n",
       "      <th>model_feat_imp_train</th>\n",
       "    </tr>\n",
       "  </thead>\n",
       "  <tbody>\n",
       "    <tr>\n",
       "      <th>0</th>\n",
       "      <td>team1Num50Last15</td>\n",
       "      <td>3.780222</td>\n",
       "    </tr>\n",
       "    <tr>\n",
       "      <th>1</th>\n",
       "      <td>team1TotalWicketsPOMLast15</td>\n",
       "      <td>3.736359</td>\n",
       "    </tr>\n",
       "    <tr>\n",
       "      <th>2</th>\n",
       "      <td>inn2AvgRunsLast15</td>\n",
       "      <td>3.453582</td>\n",
       "    </tr>\n",
       "    <tr>\n",
       "      <th>3</th>\n",
       "      <td>team1BoundaryLast15</td>\n",
       "      <td>3.387228</td>\n",
       "    </tr>\n",
       "    <tr>\n",
       "      <th>4</th>\n",
       "      <td>seriesAvgWicketsLast15</td>\n",
       "      <td>3.357276</td>\n",
       "    </tr>\n",
       "    <tr>\n",
       "      <th>5</th>\n",
       "      <td>team1DotPercentLast15</td>\n",
       "      <td>3.227316</td>\n",
       "    </tr>\n",
       "    <tr>\n",
       "      <th>6</th>\n",
       "      <td>groundAvgRunsLast15</td>\n",
       "      <td>3.145972</td>\n",
       "    </tr>\n",
       "    <tr>\n",
       "      <th>7</th>\n",
       "      <td>inn2AvgWicketsLast15</td>\n",
       "      <td>3.035065</td>\n",
       "    </tr>\n",
       "    <tr>\n",
       "      <th>8</th>\n",
       "      <td>seriesAvgRunsLast15</td>\n",
       "      <td>3.005761</td>\n",
       "    </tr>\n",
       "    <tr>\n",
       "      <th>9</th>\n",
       "      <td>team1WinpLast5</td>\n",
       "      <td>2.965754</td>\n",
       "    </tr>\n",
       "  </tbody>\n",
       "</table>\n",
       "</div>"
      ],
      "text/plain": [
       "                    feat_name  model_feat_imp_train\n",
       "0            team1Num50Last15              3.780222\n",
       "1  team1TotalWicketsPOMLast15              3.736359\n",
       "2           inn2AvgRunsLast15              3.453582\n",
       "3         team1BoundaryLast15              3.387228\n",
       "4      seriesAvgWicketsLast15              3.357276\n",
       "5       team1DotPercentLast15              3.227316\n",
       "6         groundAvgRunsLast15              3.145972\n",
       "7        inn2AvgWicketsLast15              3.035065\n",
       "8         seriesAvgRunsLast15              3.005761\n",
       "9              team1WinpLast5              2.965754"
      ]
     },
     "execution_count": 28,
     "metadata": {},
     "output_type": "execute_result"
    }
   ],
   "source": [
    "a = list(zip(cols, clf_xgb.best_estimator_.feature_importances_*100))\n",
    "a.sort(key=lambda x: x[1], reverse=True)\n",
    "feature_importance_xgb = pd.DataFrame(a, columns=['feat_name', 'model_feat_imp_train'])\n",
    "feature_importance_xgb.head(10)"
   ]
  },
  {
   "cell_type": "code",
   "execution_count": 9,
   "metadata": {},
   "outputs": [],
   "source": [
    "# # CATBOOST\n",
    "# clf_cat = cat.CatBoostClassifier(iterations= 100, random_state=0, verbose=0)\n",
    "# param_cat = {'learning_rate':[0.01, 0.05, 0.1, 0.2],\n",
    "#             'depth':[3,5,7,9],\n",
    "#             'subsample':[0.05, 0.1, 0.2, 0.5],\n",
    "#             'min_data_in_leaf':[10,40,70,100]}\n",
    "\n",
    "# clf_cat = GridSearchCV(clf_cat, param_cat, cv=5, n_jobs=-1)\n",
    "# clf_cat.fit(X_train, y_train)\n",
    "# print(f\"Best parameters are: {clf_cat.best_params_}\")\n",
    "# y_pred = clf_cat.predict(X_test)\n",
    "# acc = np.mean(y_pred == y_test)\n",
    "# print(f'Accuracy: {acc}')"
   ]
  },
  {
   "cell_type": "code",
   "execution_count": 10,
   "metadata": {},
   "outputs": [],
   "source": [
    "# clf_cat.best_estimator_.get_feature_importance(prettified=True)"
   ]
  },
  {
   "cell_type": "code",
   "execution_count": 11,
   "metadata": {},
   "outputs": [
    {
     "name": "stdout",
     "output_type": "stream",
     "text": [
      "Best parameters are: {'depth': 10, 'l2_leaf_reg': 9, 'learning_rate': 0.05}\n",
      "Accuracy: 0.6115107913669064\n"
     ]
    }
   ],
   "source": [
    "# CATBOOST\n",
    "clf_cat = cat.CatBoostClassifier(iterations= 100, random_state=0, verbose=0)\n",
    "param_cat = {\n",
    "    'depth': [6, 7, 8, 9, 10],\n",
    "    'learning_rate': [0.1, 0.05, 0.01, 0.001],\n",
    "    'l2_leaf_reg': [1, 3, 5, 7, 9]\n",
    "}\n",
    "\n",
    "clf_cat = GridSearchCV(clf_cat, param_cat, cv=5, n_jobs=-1)\n",
    "clf_cat.fit(X_train, y_train)\n",
    "print(f\"Best parameters are: {clf_cat.best_params_}\")\n",
    "y_pred = clf_cat.predict(X_test)\n",
    "acc = np.mean(y_pred == y_test)\n",
    "print(f'Accuracy: {acc}')"
   ]
  },
  {
   "cell_type": "code",
   "execution_count": 29,
   "metadata": {},
   "outputs": [
    {
     "data": {
      "text/html": [
       "<div>\n",
       "<style scoped>\n",
       "    .dataframe tbody tr th:only-of-type {\n",
       "        vertical-align: middle;\n",
       "    }\n",
       "\n",
       "    .dataframe tbody tr th {\n",
       "        vertical-align: top;\n",
       "    }\n",
       "\n",
       "    .dataframe thead th {\n",
       "        text-align: right;\n",
       "    }\n",
       "</style>\n",
       "<table border=\"1\" class=\"dataframe\">\n",
       "  <thead>\n",
       "    <tr style=\"text-align: right;\">\n",
       "      <th></th>\n",
       "      <th>feat_name</th>\n",
       "      <th>model_feat_imp_train</th>\n",
       "    </tr>\n",
       "  </thead>\n",
       "  <tbody>\n",
       "    <tr>\n",
       "      <th>0</th>\n",
       "      <td>team1MaidenPercent</td>\n",
       "      <td>5.181075</td>\n",
       "    </tr>\n",
       "    <tr>\n",
       "      <th>1</th>\n",
       "      <td>team1TotalWicketsPOMLast15</td>\n",
       "      <td>4.686983</td>\n",
       "    </tr>\n",
       "    <tr>\n",
       "      <th>2</th>\n",
       "      <td>team1AvgRunsMargin</td>\n",
       "      <td>4.546686</td>\n",
       "    </tr>\n",
       "    <tr>\n",
       "      <th>3</th>\n",
       "      <td>team1BowlBoundaryPercentLast15</td>\n",
       "      <td>4.352268</td>\n",
       "    </tr>\n",
       "    <tr>\n",
       "      <th>4</th>\n",
       "      <td>team1CaptainRuns</td>\n",
       "      <td>4.213771</td>\n",
       "    </tr>\n",
       "    <tr>\n",
       "      <th>5</th>\n",
       "      <td>groundAvgRunsLast15</td>\n",
       "      <td>3.803622</td>\n",
       "    </tr>\n",
       "    <tr>\n",
       "      <th>6</th>\n",
       "      <td>team1WinpLast5</td>\n",
       "      <td>3.761273</td>\n",
       "    </tr>\n",
       "    <tr>\n",
       "      <th>7</th>\n",
       "      <td>team1Num50Last15</td>\n",
       "      <td>3.594079</td>\n",
       "    </tr>\n",
       "    <tr>\n",
       "      <th>8</th>\n",
       "      <td>inn2AvgRunsLast15</td>\n",
       "      <td>3.487041</td>\n",
       "    </tr>\n",
       "    <tr>\n",
       "      <th>9</th>\n",
       "      <td>lightAvgRunsLast15</td>\n",
       "      <td>3.418773</td>\n",
       "    </tr>\n",
       "  </tbody>\n",
       "</table>\n",
       "</div>"
      ],
      "text/plain": [
       "                        feat_name  model_feat_imp_train\n",
       "0              team1MaidenPercent              5.181075\n",
       "1      team1TotalWicketsPOMLast15              4.686983\n",
       "2              team1AvgRunsMargin              4.546686\n",
       "3  team1BowlBoundaryPercentLast15              4.352268\n",
       "4                team1CaptainRuns              4.213771\n",
       "5             groundAvgRunsLast15              3.803622\n",
       "6                  team1WinpLast5              3.761273\n",
       "7                team1Num50Last15              3.594079\n",
       "8               inn2AvgRunsLast15              3.487041\n",
       "9              lightAvgRunsLast15              3.418773"
      ]
     },
     "execution_count": 29,
     "metadata": {},
     "output_type": "execute_result"
    }
   ],
   "source": [
    "a = list(zip(cols, clf_cat.best_estimator_.feature_importances_))\n",
    "a.sort(key=lambda x: x[1], reverse=True)\n",
    "feature_importance_cat = pd.DataFrame(a, columns=['feat_name', 'model_feat_imp_train'])\n",
    "feature_importance_cat.head(10)"
   ]
  },
  {
   "cell_type": "code",
   "execution_count": 26,
   "metadata": {},
   "outputs": [
    {
     "name": "stdout",
     "output_type": "stream",
     "text": [
      "Best parameters are: {'colsample_bytree': 0.8, 'learning_rate': 0.001, 'max_depth': 9, 'min_data_in_leaf': 40}\n",
      "Accuracy: 0.5323741007194245\n"
     ]
    }
   ],
   "source": [
    "# LGBM\n",
    "clf_lgb = lgb.LGBMClassifier(random_state=0, verbose=-1, num_leaves = 16, objective='binary', n_jobs=-1)\n",
    "param_lgb = {\n",
    "    'learning_rate': [0.1, 0.05, 0.01, 0.001],\n",
    "    'max_depth':[5, 7, 9, 11],\n",
    "    'colsample_bytree': [0.8, 1.0],\n",
    "    'min_data_in_leaf': [5, 10, 15, 20, 25, 30, 40, 50, 70, 100]\n",
    "}\n",
    "\n",
    "clf_lgb = GridSearchCV(clf_lgb, param_lgb, cv=5, n_jobs=-1)\n",
    "clf_lgb.fit(X_train, y_train)\n",
    "print(f\"Best parameters are: {clf_lgb.best_params_}\")\n",
    "y_pred = clf_lgb.predict(X_test)\n",
    "acc = np.mean(y_pred == y_test)\n",
    "print(f'Accuracy: {acc}')"
   ]
  },
  {
   "cell_type": "code",
   "execution_count": 34,
   "metadata": {},
   "outputs": [
    {
     "data": {
      "text/html": [
       "<div>\n",
       "<style scoped>\n",
       "    .dataframe tbody tr th:only-of-type {\n",
       "        vertical-align: middle;\n",
       "    }\n",
       "\n",
       "    .dataframe tbody tr th {\n",
       "        vertical-align: top;\n",
       "    }\n",
       "\n",
       "    .dataframe thead th {\n",
       "        text-align: right;\n",
       "    }\n",
       "</style>\n",
       "<table border=\"1\" class=\"dataframe\">\n",
       "  <thead>\n",
       "    <tr style=\"text-align: right;\">\n",
       "      <th></th>\n",
       "      <th>feat_name</th>\n",
       "      <th>model_feat_imp_train</th>\n",
       "    </tr>\n",
       "  </thead>\n",
       "  <tbody>\n",
       "    <tr>\n",
       "      <th>0</th>\n",
       "      <td>team1Num50Last15</td>\n",
       "      <td>9.867330</td>\n",
       "    </tr>\n",
       "    <tr>\n",
       "      <th>1</th>\n",
       "      <td>team1TotalWicketsPOMLast15</td>\n",
       "      <td>9.286899</td>\n",
       "    </tr>\n",
       "    <tr>\n",
       "      <th>2</th>\n",
       "      <td>team1CaptainRuns</td>\n",
       "      <td>7.131012</td>\n",
       "    </tr>\n",
       "    <tr>\n",
       "      <th>3</th>\n",
       "      <td>groundAvgRunsLast15</td>\n",
       "      <td>6.882255</td>\n",
       "    </tr>\n",
       "    <tr>\n",
       "      <th>4</th>\n",
       "      <td>team1MaidenPercent</td>\n",
       "      <td>4.892206</td>\n",
       "    </tr>\n",
       "    <tr>\n",
       "      <th>5</th>\n",
       "      <td>seriesAvgWicketsLast15</td>\n",
       "      <td>4.643449</td>\n",
       "    </tr>\n",
       "    <tr>\n",
       "      <th>6</th>\n",
       "      <td>team1AvgRR</td>\n",
       "      <td>4.643449</td>\n",
       "    </tr>\n",
       "    <tr>\n",
       "      <th>7</th>\n",
       "      <td>inn1AvgRunsLast15</td>\n",
       "      <td>4.228856</td>\n",
       "    </tr>\n",
       "    <tr>\n",
       "      <th>8</th>\n",
       "      <td>inn2AvgWicketsLast15</td>\n",
       "      <td>4.063018</td>\n",
       "    </tr>\n",
       "    <tr>\n",
       "      <th>9</th>\n",
       "      <td>seriesAvgRunsLast15</td>\n",
       "      <td>3.814262</td>\n",
       "    </tr>\n",
       "  </tbody>\n",
       "</table>\n",
       "</div>"
      ],
      "text/plain": [
       "                    feat_name  model_feat_imp_train\n",
       "0            team1Num50Last15              9.867330\n",
       "1  team1TotalWicketsPOMLast15              9.286899\n",
       "2            team1CaptainRuns              7.131012\n",
       "3         groundAvgRunsLast15              6.882255\n",
       "4          team1MaidenPercent              4.892206\n",
       "5      seriesAvgWicketsLast15              4.643449\n",
       "6                  team1AvgRR              4.643449\n",
       "7           inn1AvgRunsLast15              4.228856\n",
       "8        inn2AvgWicketsLast15              4.063018\n",
       "9         seriesAvgRunsLast15              3.814262"
      ]
     },
     "execution_count": 34,
     "metadata": {},
     "output_type": "execute_result"
    }
   ],
   "source": [
    "a = list(zip(cols, clf_lgb.best_estimator_.feature_importances_))\n",
    "a.sort(key=lambda x: x[1], reverse=True)\n",
    "feature_importance_lgb = pd.DataFrame(a, columns=['feat_name', 'model_feat_imp_train'])\n",
    "feature_importance_lgb['model_feat_imp_train'] = feature_importance_lgb['model_feat_imp_train']/(feature_importance_lgb['model_feat_imp_train'].sum()/100)\n",
    "feature_importance_lgb.head(10)"
   ]
  },
  {
   "cell_type": "code",
   "execution_count": 44,
   "metadata": {},
   "outputs": [
    {
     "name": "stdout",
     "output_type": "stream",
     "text": [
      "Accuracy for ensemble: 0.579136690647482\n"
     ]
    }
   ],
   "source": [
    "models = {\n",
    "    'xgb': clf_xgb.best_estimator_,\n",
    "    'cat': clf_cat.best_estimator_,\n",
    "    # 'lgb': clf_lgb.best_estimator_\n",
    "}\n",
    "\n",
    "trained_models = [(name, model) for name, model in models.items()]\n",
    "\n",
    "ensemble = VotingClassifier(estimators=trained_models, voting='soft', verbose=False, n_jobs=-1)\n",
    "ensemble.fit(X_train, y_train)\n",
    "y_pred = ensemble.predict(X_test)\n",
    "\n",
    "acc = np.mean(y_pred == y_test)\n",
    "print(f'Accuracy for ensemble: {acc}')"
   ]
  },
  {
   "cell_type": "code",
   "execution_count": 45,
   "metadata": {},
   "outputs": [],
   "source": [
    "estimators = ensemble.named_estimators_\n",
    "\n",
    "feature_importance = {}\n",
    "for _, est in estimators.items():\n",
    "    if hasattr(est, 'feature_importances_'):\n",
    "        norm_imp = est.feature_importances_ / sum(est.feature_importances_)\n",
    "        for i, imp in zip(cols,norm_imp):\n",
    "            feature_importance.setdefault(i, []).append(imp)\n",
    "\n",
    "feature_importance = {k: sum(v) / len(v) for k, v in feature_importance.items()}\n",
    "feature_importance = list(zip(feature_importance, feature_importance.values()))\n",
    "feature_importance.sort(key=lambda x: x[1], reverse=True)\n",
    "feature_importance = pd.DataFrame(feature_importance, columns=['feat_name', 'model_feat_imp_train']).head(10)"
   ]
  },
  {
   "cell_type": "code",
   "execution_count": 46,
   "metadata": {},
   "outputs": [],
   "source": [
    "def isEnsemble(ensemble):\n",
    "    if len(ensemble.estimators_) == 1:\n",
    "        return 'no'\n",
    "    else:\n",
    "        return 'yes'"
   ]
  },
  {
   "cell_type": "code",
   "execution_count": 47,
   "metadata": {},
   "outputs": [
    {
     "data": {
      "text/plain": [
       "'yes'"
      ]
     },
     "execution_count": 47,
     "metadata": {},
     "output_type": "execute_result"
    }
   ],
   "source": [
    "isEnsemble(ensemble)"
   ]
  },
  {
   "cell_type": "code",
   "execution_count": 39,
   "metadata": {},
   "outputs": [
    {
     "data": {
      "text/html": [
       "<div>\n",
       "<style scoped>\n",
       "    .dataframe tbody tr th:only-of-type {\n",
       "        vertical-align: middle;\n",
       "    }\n",
       "\n",
       "    .dataframe tbody tr th {\n",
       "        vertical-align: top;\n",
       "    }\n",
       "\n",
       "    .dataframe thead th {\n",
       "        text-align: right;\n",
       "    }\n",
       "</style>\n",
       "<table border=\"1\" class=\"dataframe\">\n",
       "  <thead>\n",
       "    <tr style=\"text-align: right;\">\n",
       "      <th></th>\n",
       "      <th>feat_name</th>\n",
       "      <th>model_feat_imp_train</th>\n",
       "    </tr>\n",
       "  </thead>\n",
       "  <tbody>\n",
       "    <tr>\n",
       "      <th>0</th>\n",
       "      <td>team1MaidenPercent</td>\n",
       "      <td>0.051811</td>\n",
       "    </tr>\n",
       "    <tr>\n",
       "      <th>1</th>\n",
       "      <td>team1TotalWicketsPOMLast15</td>\n",
       "      <td>0.046870</td>\n",
       "    </tr>\n",
       "    <tr>\n",
       "      <th>2</th>\n",
       "      <td>team1AvgRunsMargin</td>\n",
       "      <td>0.045467</td>\n",
       "    </tr>\n",
       "    <tr>\n",
       "      <th>3</th>\n",
       "      <td>team1BowlBoundaryPercentLast15</td>\n",
       "      <td>0.043523</td>\n",
       "    </tr>\n",
       "    <tr>\n",
       "      <th>4</th>\n",
       "      <td>team1CaptainRuns</td>\n",
       "      <td>0.042138</td>\n",
       "    </tr>\n",
       "    <tr>\n",
       "      <th>5</th>\n",
       "      <td>groundAvgRunsLast15</td>\n",
       "      <td>0.038036</td>\n",
       "    </tr>\n",
       "    <tr>\n",
       "      <th>6</th>\n",
       "      <td>team1WinpLast5</td>\n",
       "      <td>0.037613</td>\n",
       "    </tr>\n",
       "    <tr>\n",
       "      <th>7</th>\n",
       "      <td>team1Num50Last15</td>\n",
       "      <td>0.035941</td>\n",
       "    </tr>\n",
       "    <tr>\n",
       "      <th>8</th>\n",
       "      <td>inn2AvgRunsLast15</td>\n",
       "      <td>0.034870</td>\n",
       "    </tr>\n",
       "    <tr>\n",
       "      <th>9</th>\n",
       "      <td>lightAvgRunsLast15</td>\n",
       "      <td>0.034188</td>\n",
       "    </tr>\n",
       "  </tbody>\n",
       "</table>\n",
       "</div>"
      ],
      "text/plain": [
       "                        feat_name  model_feat_imp_train\n",
       "0              team1MaidenPercent              0.051811\n",
       "1      team1TotalWicketsPOMLast15              0.046870\n",
       "2              team1AvgRunsMargin              0.045467\n",
       "3  team1BowlBoundaryPercentLast15              0.043523\n",
       "4                team1CaptainRuns              0.042138\n",
       "5             groundAvgRunsLast15              0.038036\n",
       "6                  team1WinpLast5              0.037613\n",
       "7                team1Num50Last15              0.035941\n",
       "8               inn2AvgRunsLast15              0.034870\n",
       "9              lightAvgRunsLast15              0.034188"
      ]
     },
     "execution_count": 39,
     "metadata": {},
     "output_type": "execute_result"
    }
   ],
   "source": [
    "feature_importance"
   ]
  }
 ],
 "metadata": {
  "kernelspec": {
   "display_name": "Python 3",
   "language": "python",
   "name": "python3"
  },
  "language_info": {
   "codemirror_mode": {
    "name": "ipython",
    "version": 3
   },
   "file_extension": ".py",
   "mimetype": "text/x-python",
   "name": "python",
   "nbconvert_exporter": "python",
   "pygments_lexer": "ipython3",
   "version": "3.9.0"
  }
 },
 "nbformat": 4,
 "nbformat_minor": 2
}
