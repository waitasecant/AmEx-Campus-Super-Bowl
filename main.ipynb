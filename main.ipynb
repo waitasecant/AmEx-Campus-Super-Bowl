{
 "cells": [
  {
   "cell_type": "code",
   "execution_count": 2,
   "metadata": {},
   "outputs": [],
   "source": [
    "# Importing libraries\n",
    "import pandas as pd\n",
    "import numpy as np\n",
    "import xgboost as xgb\n",
    "import lightgbm as lgb\n",
    "import catboost as cat\n",
    "from sklearn.ensemble import GradientBoostingClassifier\n",
    "from sklearn.ensemble import VotingClassifier\n",
    "from sklearn.model_selection import GridSearchCV"
   ]
  },
  {
   "cell_type": "code",
   "execution_count": 3,
   "metadata": {},
   "outputs": [],
   "source": [
    "# Helper function\n",
    "def to_datetime(df):\n",
    "    df['match_dt'] = pd.to_datetime(df['match_dt'], format='%Y-%m-%d')\n",
    "    return df\n",
    "\n",
    "def rm_blankspace(df):\n",
    "    df.rename(columns=lambda x: x.replace(' ', '_'), inplace=True)\n",
    "    return df\n",
    "\n",
    "def unwrap_rosters(df):\n",
    "    df['team1_roster_ids'] = df['team1_roster_ids'].apply(lambda x: x.split(':'))\n",
    "    df['team2_roster_ids'] = df['team2_roster_ids'].apply(lambda x: x.split(':'))\n",
    "    return df\n",
    "\n",
    "def data_preprocessing(df):\n",
    "    df = to_datetime(df)\n",
    "    df = rm_blankspace(df)\n",
    "    return df"
   ]
  },
  {
   "cell_type": "code",
   "execution_count": 4,
   "metadata": {},
   "outputs": [],
   "source": [
    "# Importing datset\n",
    "train_data = pd.read_csv('data//train_data.csv',)\n",
    "\n",
    "batsman_data = pd.read_csv('data//batsman_level_data.csv')\n",
    "\n",
    "bowler_data = pd.read_csv('data//bowler_level_data.csv')\n",
    "\n",
    "match_data = pd.read_csv('data//match_level_data.csv')\n",
    "\n",
    "test_data = pd.read_csv('data//round_1_sub_data.csv')"
   ]
  },
  {
   "cell_type": "code",
   "execution_count": 5,
   "metadata": {},
   "outputs": [],
   "source": [
    "train_data = data_preprocessing(train_data)\n",
    "train_data = unwrap_rosters(train_data)\n",
    "match_data = data_preprocessing(match_data)\n",
    "match_data = unwrap_rosters(match_data)\n",
    "test_data = data_preprocessing(test_data)\n",
    "test_data = unwrap_rosters(test_data)\n",
    "\n",
    "batsman_data = data_preprocessing(batsman_data)\n",
    "bowler_data = data_preprocessing(bowler_data)"
   ]
  },
  {
   "cell_type": "code",
   "execution_count": 6,
   "metadata": {},
   "outputs": [],
   "source": [
    "# Reordering columns\n",
    "match_data = match_data[['match_id', 'match_dt', 'team1', 'team1_id', 'team2', 'team2_id',\n",
    "        'toss_winner', 'toss_decision', 'ground_id', 'lighting', 'series_name',\n",
    "        'winner', 'winner_id', 'by', 'win_amount', 'player_of_the_match_id',\n",
    "        'inning1_runs', 'inning1_wickets', 'inning1_balls', 'inning2_runs', 'inning2_wickets', 'inning2_balls',\n",
    "        'team1_roster_ids', 'team2_roster_ids']]\n",
    "\n",
    "train_data = train_data[['match_id', 'match_dt', 'team1', 'team1_id', 'team2', 'team2_id',\n",
    "       'toss_winner', 'toss_decision', 'ground_id', 'lighting', 'series_name',\n",
    "       'winner', 'winner_id', 'team1_roster_ids', 'team2_roster_ids', 'team_count_50runs_last15',\n",
    "       'team_winp_last5', 'team1only_avg_runs_last15', 'team1_winp_team2_last15','ground_avg_runs_last15']]"
   ]
  },
  {
   "cell_type": "code",
   "execution_count": 7,
   "metadata": {},
   "outputs": [],
   "source": [
    "# Cheatsheet features\n",
    "def giveLastNgamesPlayer(player_id, date, n, bat_or_bowl):\n",
    "    '''\n",
    "    Function to get last n games stats of a player before an input date.\n",
    "    \n",
    "    Input-\n",
    "    1. player_id: id of the player to get historical data.\n",
    "    2. date: date to look-back and get n games. Stats returned are before this input date.\n",
    "    3. n: Number of historical games stats to return.\n",
    "    4. bat_or_bowl: Kind of stats to return. {'bat': batting stats to return, 'bowl': bowling stats to return}\n",
    "    '''\n",
    "    if bat_or_bowl == 'bat':\n",
    "        df_topick = batsman_data\n",
    "        id_col = 'batsman_id'\n",
    "    else:\n",
    "        df_topick = bowler_data\n",
    "        id_col = 'bowler_id'\n",
    "        \n",
    "    return df_topick[(df_topick['match_dt']<date)&(df_topick[id_col]==float(player_id))]\\\n",
    "                .sort_values(by='match_dt', ascending=False).head(n)\n",
    "\n",
    "def no50sLastn(player_list, date, n):\n",
    "    '''\n",
    "    Function to get total number of 50s scored by players in the roster of a team in last n games.\n",
    "    \n",
    "    Input-\n",
    "    1. player_list: ':' separated list of player ids in the roster of a team.\n",
    "    2. date: match date of the game to calculate this feature.\n",
    "    3. n: Number of games to look-back and create this feature.\n",
    "    \n",
    "    '''\n",
    "    res_list = []\n",
    "    for player in player_list:\n",
    "        df_rel = giveLastNgamesPlayer(player_id=player, date=date, n=n, bat_or_bowl='bat')\n",
    "        df_rel['gte_50runs'] = np.where(df_rel['runs']>=50, 1, 0)\n",
    "        res_list.append(np.nansum(df_rel['gte_50runs']))\n",
    "    return np.nansum(res_list)\n",
    "\n",
    "def avgRunsGround(ground_id, date, n):\n",
    "    '''\n",
    "    Function to calculate average runs scored in ground/venue.\n",
    "    \n",
    "    Input-\n",
    "    1. ground_id: ID of the ground to calculate the feature for.\n",
    "    2. date: match date of the current game to calculate the feature for.\n",
    "    3. n: look-back window of games for the ground.\n",
    "    '''\n",
    "\n",
    "    df_rel = match_data[(match_data['match_dt']<date)&(match_data['ground_id']==ground_id)].sort_values(by='match_dt', ascending=False).head(n)\n",
    "    df_rel['avg_runs_inn'] = (df_rel['inning1_runs']+df_rel['inning2_runs'])/2\n",
    "    return df_rel['avg_runs_inn'].mean()\n",
    "\n",
    "def teamAvgRunsLastn(team_id, date, n):\n",
    "    '''\n",
    "    Function to calculate a team's average runs in their last n games.\n",
    "    \n",
    "    Input-\n",
    "    1. team_id: ID of the team to calculate average runs.\n",
    "    2. date: match date of the current game for which the feature is calculated.\n",
    "    3. n: look-back window of games for the team.\n",
    "    '''\n",
    "    match_data['team1_bat_inning'] = np.where( ((match_data['team1']==match_data['toss winner'])&(match_data['toss decision']=='bat'))|\\\n",
    "                                               ((match_data['team2']==match_data['toss winner'])&(match_data['toss decision']=='field')) , 1, 2)\n",
    "\n",
    "    df_rel = match_data[(match_data['match_dt']<date)&\\\n",
    "                      ((match_data['team1_id']==team_id)|(match_data['team2_id']==team_id))]\\\n",
    "                        .sort_values(by='match_dt', ascending=False).head(n)\n",
    "    \n",
    "    df_rel = pd.concat([ df_rel[df_rel['team1_bat_inning']==1][['inning1_runs']].rename(columns={'inning1_runs':'runs'}), \\\n",
    "                         df_rel[df_rel['team1_bat_inning']==2][['inning2_runs']].rename(columns={'inning2_runs':'runs'}) ] )\n",
    "    return df_rel['runs'].mean()\n"
   ]
  },
  {
   "cell_type": "code",
   "execution_count": 8,
   "metadata": {},
   "outputs": [],
   "source": [
    "# Ratio agnostic features\n",
    "def tossWinnerWins(team1_id, team2_id, date):\n",
    "    '''\n",
    "    Function to compute percent of games toss winner wins the game.\n",
    "    \n",
    "    Input-\n",
    "    1. team1_id: ID of team1\n",
    "    2. team2_id: ID of team2\n",
    "    3: date: match date of the current game for which the feature is to be calculated.\n",
    "    '''\n",
    "    match_data['DtossWinnerWins'] = np.where(match_data['toss_winner'] == match_data['winner'], 1, 0)\n",
    "    df_rel = match_data[(match_data['match_dt']<date)&\\\n",
    "                        (((match_data['team1_id']==team1_id)&(match_data['team2_id']==team2_id))|\\\n",
    "                         ((match_data['team1_id']==team2_id)&(match_data['team2_id']==team1_id)))]\\\n",
    "                        .sort_values(by='match_dt', ascending=False)\n",
    "    \n",
    "    res = df_rel['DtossWinnerWins'].values\n",
    "    if len(res)==0:\n",
    "        return 0\n",
    "    else:\n",
    "        return round(np.mean(df_rel['DtossWinnerWins'].values),2)\n",
    "\n",
    "def teamBatsFirstWins(team1_id, team2_id, date):\n",
    "    '''\n",
    "    Function to compute percent of games team that bats first wins the game.\n",
    "    \n",
    "    Input-\n",
    "    1. team1_id: ID of team1\n",
    "    2. team2_id: ID of team2\n",
    "    3: date: match date of the current game for which the feature is to be calculated.\n",
    "    '''\n",
    "    match_data['toss_decision_bats'] = np.where(match_data['toss_decision'] == 'bat', 1, 0)\n",
    "\n",
    "    match_data['DteamBatsFirstWins'] = np.where(((match_data['DtossWinnerWins'] == 1) & (match_data['toss_decision_bats'] == 1))\n",
    "                                          | ((match_data['DtossWinnerWins'] == 0) & (match_data['toss_decision_bats'] == 0)), 1, 0)\n",
    "  \n",
    "    df_rel = match_data[(match_data['match_dt']<date)&\\\n",
    "                        (((match_data['team1_id']==team1_id)&(match_data['team2_id']==team2_id))|\\\n",
    "                         ((match_data['team1_id']==team2_id)&(match_data['team2_id']==team1_id)))]\\\n",
    "                        .sort_values(by='match_dt', ascending=False)\n",
    "\n",
    "    res = df_rel['DteamBatsFirstWins'].values\n",
    "    if len(res)==0:\n",
    "        return 0\n",
    "    else:\n",
    "        return round(np.mean(df_rel['DteamBatsFirstWins'].values),2)\n",
    "\n",
    "def teamBatsFirstWinsAtGround(team1_id, team2_id, date, ground):\n",
    "    '''\n",
    "    Function to compute percent of games team that bats first wins the game.\n",
    "    \n",
    "    Input-\n",
    "    1. team1_id: ID of team1\n",
    "    2. team2_id: ID of team2\n",
    "    3: date: match date of the current game for which the feature is to be calculated.\n",
    "    4. ground: Ground ID of the current game.\n",
    "    '''\n",
    "\n",
    "    df_rel = match_data[(match_data['match_dt']<date)&\\\n",
    "                        (match_data['ground_id'] == ground)&\\\n",
    "                        (((match_data['team1_id']==team1_id)&(match_data['team2_id']==team2_id))|\\\n",
    "                         ((match_data['team1_id']==team2_id)&(match_data['team2_id']==team1_id)))]\\\n",
    "                        .sort_values(by='match_dt', ascending=False)\n",
    "\n",
    "    res = df_rel['DteamBatsFirstWins'].values\n",
    "    if len(res)==0:\n",
    "        return 0\n",
    "    else:\n",
    "        return round(np.mean(df_rel['DteamBatsFirstWins'].values),2)\n"
   ]
  },
  {
   "cell_type": "code",
   "execution_count": 9,
   "metadata": {},
   "outputs": [],
   "source": [
    "# Ratio agnostic features\n",
    "\n",
    "# tossWinnerWins\n",
    "train_data['tossWinnerWins'] = train_data.apply(lambda x: tossWinnerWins(x['team1_id'], x['team2_id'], x['match_dt']), axis=1)\n",
    "test_data['tossWinnerWins'] = test_data.apply(lambda x: tossWinnerWins(x['team1_id'], x['team2_id'], x['match_dt']), axis=1)\n",
    "\n",
    "# teamBatsFirstWins\n",
    "train_data['teamBatsFirstWins'] = train_data.apply(lambda x: teamBatsFirstWins(x['team1_id'], x['team2_id'], x['match_dt']), axis=1)\n",
    "test_data['teamBatsFirstWins'] = test_data.apply(lambda x: teamBatsFirstWins(x['team1_id'], x['team2_id'], x['match_dt']), axis=1)\n",
    "\n",
    "# teamBatsFirstWins\n",
    "train_data['teamBatsFirstWinsAtGround'] = train_data.apply(lambda x: teamBatsFirstWinsAtGround(x['team1_id'], x['team2_id'], x['match_dt'],x['ground_id']), axis=1)\n",
    "test_data['teamBatsFirstWinsAtGround'] = test_data.apply(lambda x: teamBatsFirstWinsAtGround(x['team1_id'], x['team2_id'], x['match_dt'],x['ground_id']), axis=1)\n"
   ]
  },
  {
   "cell_type": "code",
   "execution_count": 10,
   "metadata": {},
   "outputs": [],
   "source": [
    "# Team1 to Team2 ratio features\n",
    "def team1WinpAtGround(team1_id, team2_id, date, ground):\n",
    "    '''\n",
    "    Function to compute team1's win% against team2 from the current game at the given ground.\n",
    "    \n",
    "    Input-\n",
    "    1. team1_id: ID of team1 to calculate win% of.\n",
    "    2. team2_id: ID of team2 to calculate win% against.\n",
    "    3: date: match date of the current game for which the feature is to be calculated.\n",
    "    4. ground: Ground ID of the current game.\n",
    "    '''\n",
    "\n",
    "    df_rel = match_data[(match_data['match_dt']<date)&\\\n",
    "                        (match_data['ground_id'] == ground)&\\\n",
    "                      (((match_data['team1_id']==team1_id)&(match_data['team2_id']==team2_id))|\\\n",
    "                       ((match_data['team1_id']==team2_id)&(match_data['team2_id']==team1_id)))]\\\n",
    "                        .sort_values(by='match_dt', ascending=False)\n",
    "\n",
    "    win_count = df_rel[df_rel['winner_id']==team1_id].shape[0]\n",
    "    if win_count == 0:\n",
    "        return 0\n",
    "    return round(win_count/df_rel.shape[0], 2)\n",
    "\n",
    "def team1WinpLight(team1_id, team2_id, date, light):\n",
    "    '''\n",
    "    Function to compute team1's win% against team2 from the current game at the given lighting.\n",
    "    \n",
    "    Input-\n",
    "    1. team1_id: ID of team1 to calculate win% of.\n",
    "    2. team2_id: ID of team2 to calculate win% against.\n",
    "    3: date: match date of the current game for which the feature is to be calculated.\n",
    "    4. light: Lighting condition of the current game.\n",
    "    '''\n",
    "\n",
    "    df_rel = match_data[(match_data['match_dt']<date)&\\\n",
    "                        (match_data['lighting'] == light)&\\\n",
    "                      (((match_data['team1_id']==team1_id)&(match_data['team2_id']==team2_id))|\\\n",
    "                       ((match_data['team1_id']==team2_id)&(match_data['team2_id']==team1_id)))]\\\n",
    "                        .sort_values(by='match_dt', ascending=False)\n",
    "\n",
    "    win_count = df_rel[df_rel['winner_id']==team1_id].shape[0]\n",
    "    if win_count == 0:\n",
    "        return 0\n",
    "    return round(win_count/df_rel.shape[0], 2)\n",
    "\n",
    "def team1WinpSeries(team1_id, team2_id, date, series):\n",
    "    '''\n",
    "    Function to compute team1's win% against team2 from the current game at the given lighting.\n",
    "    \n",
    "    Input-\n",
    "    1. team1_id: ID of team1 to calculate win% of.\n",
    "    2. team2_id: ID of team2 to calculate win% against.\n",
    "    3: date: match date of the current game for which the feature is to be calculated.\n",
    "    4. series: Series name of the current game.\n",
    "    '''\n",
    "\n",
    "    df_rel = match_data[(match_data['match_dt']<date)&\\\n",
    "                        (match_data['series_name'] == series)&\\\n",
    "                      (((match_data['team1_id']==team1_id)&(match_data['team2_id']==team2_id))|\\\n",
    "                       ((match_data['team1_id']==team2_id)&(match_data['team2_id']==team1_id)))]\\\n",
    "                        .sort_values(by='match_dt', ascending=False)\n",
    "\n",
    "    win_count = df_rel[df_rel['winner_id']==team1_id].shape[0]\n",
    "    if win_count == 0:\n",
    "        return 0\n",
    "    return round(win_count/df_rel.shape[0], 2)\n",
    "\n",
    "def team1AvgRunsMargin(team1_id, team2_id, date, n):\n",
    "    '''\n",
    "    Function to calculate team1's average runs margin against team2 in last n games.\n",
    "    \n",
    "    Input-\n",
    "    1. team1_id: ID of team1 to calculate average runs margin.\n",
    "    2. team2_id: ID of team2 to calculate average runs margin against.\n",
    "    3: date: match date of the current game for which the feature is to be calculated.\n",
    "    4. n: look-back window of games for the team.\n",
    "    '''\n",
    "    df_rel1 = match_data[(match_data['match_dt']<date)&\\\n",
    "                      ((match_data['team1_id']==team1_id)|(match_data['team2_id']==team1_id))&\\\n",
    "                       (match_data['winner_id']==team1_id)&\\\n",
    "                        (match_data['by']=='runs')]\\\n",
    "                        .sort_values(by='match_dt', ascending=False).head(n)\n",
    "    \n",
    "    df_rel2 = match_data[(match_data['match_dt']<date)&\\\n",
    "                      ((match_data['team1_id']==team2_id)|(match_data['team2_id']==team2_id))&\\\n",
    "                       (match_data['winner_id']==team2_id)&\\\n",
    "                        (match_data['by']=='runs')]\\\n",
    "                        .sort_values(by='match_dt', ascending=False).head(n)\n",
    "\n",
    "    df_gen= match_data[(match_data['match_dt']<date)&\\\n",
    "                      (match_data['by']=='runs')]\n",
    "    if len(df_gen)==0 or len(df_rel1)==0 or len(df_rel2)==0:\n",
    "        return 0\n",
    "    else:\n",
    "      team1MarginRatio = np.mean(df_rel1['win_amount'])/np.mean(df_gen['win_amount'])\n",
    "      team2MarginRatio = np.mean(df_rel2['win_amount'])/np.mean(df_gen['win_amount'])\n",
    "      \n",
    "      return team1MarginRatio/team2MarginRatio"
   ]
  },
  {
   "cell_type": "code",
   "execution_count": 11,
   "metadata": {},
   "outputs": [],
   "source": [
    "# Team1 to Team2 ratio features\n",
    "\n",
    "# team1WinpAtGround\n",
    "train_data['team1WinpAtGround'] = train_data.apply(lambda x: \\\n",
    "                                  team1WinpAtGround(x['team1_id'], x['team2_id'], x['match_dt'], x['ground_id']), axis=1)\n",
    "test_data['team1WinpAtGround'] = test_data.apply(lambda x: \\\n",
    "                                  team1WinpAtGround(x['team1_id'], x['team2_id'], x['match_dt'], x['ground_id']), axis=1)\n",
    "\n",
    "# team1WinpLight\n",
    "train_data['team1WinpLight'] = train_data.apply(lambda x: \\\n",
    "                                  team1WinpLight(x['team1_id'], x['team2_id'], x['match_dt'], x['lighting']), axis=1)\n",
    "test_data['team1WinpLight'] = test_data.apply(lambda x: \\\n",
    "                                  team1WinpLight(x['team1_id'], x['team2_id'], x['match_dt'], x['lighting']), axis=1)\n",
    "\n",
    "# team1WinpSeries\n",
    "train_data['team1WinpSeries'] = train_data.apply(lambda x: \\\n",
    "                                  team1WinpSeries(x['team1_id'], x['team2_id'], x['match_dt'], x['series_name']), axis=1)\n",
    "test_data['team1WinpSeries'] = test_data.apply(lambda x: \\\n",
    "                                  team1WinpSeries(x['team1_id'], x['team2_id'], x['match_dt'], x['series_name']), axis=1)\n",
    "\n",
    "# team1AvgRunsMargin\n",
    "train_data['team1AvgRunsMargin'] = train_data.apply(lambda x: \\\n",
    "                                  team1AvgRunsMargin(x['team1_id'], x['team2_id'], x['match_dt'], 15), axis=1)\n",
    "test_data['team1AvgRunsMargin'] = test_data.apply(lambda x: \\\n",
    "                                  team1AvgRunsMargin(x['team1_id'], x['team2_id'], x['match_dt'], 15), axis=1)"
   ]
  },
  {
   "cell_type": "code",
   "execution_count": 12,
   "metadata": {},
   "outputs": [],
   "source": [
    "cols = ['team_count_50runs_last15', 'team_winp_last5',\n",
    "'team1only_avg_runs_last15', 'team1_winp_team2_last15',\n",
    "'ground_avg_runs_last15', 'tossWinnerWins', 'teamBatsFirstWins',\n",
    "'teamBatsFirstWinsAtGround', 'team1WinpAtGround', 'team1WinpLight',\n",
    "'team1WinpSeries', 'team1AvgRunsMargin']"
   ]
  },
  {
   "cell_type": "code",
   "execution_count": 13,
   "metadata": {},
   "outputs": [
    {
     "data": {
      "text/plain": [
       "(None, None)"
      ]
     },
     "execution_count": 13,
     "metadata": {},
     "output_type": "execute_result"
    }
   ],
   "source": [
    "train_data['winner_01'] = train_data.apply(lambda x: 1 if (x['team1']==x['winner']) else 0, axis=1)\n",
    "train_data.fillna(0, inplace=True), test_data.fillna(0, inplace=True)"
   ]
  },
  {
   "cell_type": "code",
   "execution_count": 182,
   "metadata": {},
   "outputs": [],
   "source": [
    "train_data_test = train_data.copy()\n",
    "train_data_test.sort_values(by='match_dt', inplace=True)\n",
    "X_train, y_train, X_test, y_test = train_data_test[cols][:670], train_data_test['winner_01'][:670], train_data_test[cols][670:], train_data_test['winner_01'][670:]"
   ]
  },
  {
   "cell_type": "code",
   "execution_count": 183,
   "metadata": {},
   "outputs": [
    {
     "name": "stdout",
     "output_type": "stream",
     "text": [
      "Best parameters are: {'learning_rate': 0.01, 'max_depth': 5, 'n_estimators': 50}\n",
      "Accuracy: 0.5287769784172662\n"
     ]
    }
   ],
   "source": [
    "# XGBOOST\n",
    "clf_xgb = xgb.XGBClassifier(random_state=0, njobs=-1, verbosity=0, eval_metric='error', objective='binary:logistic')\n",
    "param_xgb = {'n_estimators':[50,100,200,500],\n",
    "            'learning_rate':[0.01, 0.05, 0.1, 0.2],\n",
    "            'max_depth':[3,5,7,9]}\n",
    "\n",
    "gs_xgb = GridSearchCV(clf_xgb, param_xgb, cv=5, n_jobs=-1)\n",
    "gs_xgb.fit(X_train, y_train)\n",
    "print(f\"Best parameters are: {gs_xgb.best_params_}\")\n",
    "y_pred = gs_xgb.predict(X_test)\n",
    "acc = np.mean(y_pred == y_test)\n",
    "print(f'Accuracy: {acc}')"
   ]
  },
  {
   "cell_type": "code",
   "execution_count": 184,
   "metadata": {},
   "outputs": [
    {
     "data": {
      "text/html": [
       "<div>\n",
       "<style scoped>\n",
       "    .dataframe tbody tr th:only-of-type {\n",
       "        vertical-align: middle;\n",
       "    }\n",
       "\n",
       "    .dataframe tbody tr th {\n",
       "        vertical-align: top;\n",
       "    }\n",
       "\n",
       "    .dataframe thead th {\n",
       "        text-align: right;\n",
       "    }\n",
       "</style>\n",
       "<table border=\"1\" class=\"dataframe\">\n",
       "  <thead>\n",
       "    <tr style=\"text-align: right;\">\n",
       "      <th></th>\n",
       "      <th>0</th>\n",
       "      <th>1</th>\n",
       "    </tr>\n",
       "  </thead>\n",
       "  <tbody>\n",
       "    <tr>\n",
       "      <th>0</th>\n",
       "      <td>team_count_50runs_last15</td>\n",
       "      <td>0.114219</td>\n",
       "    </tr>\n",
       "    <tr>\n",
       "      <th>1</th>\n",
       "      <td>team_winp_last5</td>\n",
       "      <td>0.110076</td>\n",
       "    </tr>\n",
       "    <tr>\n",
       "      <th>2</th>\n",
       "      <td>ground_avg_runs_last15</td>\n",
       "      <td>0.099206</td>\n",
       "    </tr>\n",
       "    <tr>\n",
       "      <th>3</th>\n",
       "      <td>team1WinpLight</td>\n",
       "      <td>0.094326</td>\n",
       "    </tr>\n",
       "    <tr>\n",
       "      <th>4</th>\n",
       "      <td>team1_winp_team2_last15</td>\n",
       "      <td>0.084615</td>\n",
       "    </tr>\n",
       "    <tr>\n",
       "      <th>5</th>\n",
       "      <td>team1AvgRunsMargin</td>\n",
       "      <td>0.084027</td>\n",
       "    </tr>\n",
       "    <tr>\n",
       "      <th>6</th>\n",
       "      <td>team1only_avg_runs_last15</td>\n",
       "      <td>0.083391</td>\n",
       "    </tr>\n",
       "    <tr>\n",
       "      <th>7</th>\n",
       "      <td>teamBatsFirstWins</td>\n",
       "      <td>0.080805</td>\n",
       "    </tr>\n",
       "    <tr>\n",
       "      <th>8</th>\n",
       "      <td>teamBatsFirstWinsAtGround</td>\n",
       "      <td>0.072386</td>\n",
       "    </tr>\n",
       "    <tr>\n",
       "      <th>9</th>\n",
       "      <td>tossWinnerWins</td>\n",
       "      <td>0.061480</td>\n",
       "    </tr>\n",
       "    <tr>\n",
       "      <th>10</th>\n",
       "      <td>team1WinpSeries</td>\n",
       "      <td>0.061054</td>\n",
       "    </tr>\n",
       "    <tr>\n",
       "      <th>11</th>\n",
       "      <td>team1WinpAtGround</td>\n",
       "      <td>0.054414</td>\n",
       "    </tr>\n",
       "  </tbody>\n",
       "</table>\n",
       "</div>"
      ],
      "text/plain": [
       "                            0         1\n",
       "0    team_count_50runs_last15  0.114219\n",
       "1             team_winp_last5  0.110076\n",
       "2      ground_avg_runs_last15  0.099206\n",
       "3              team1WinpLight  0.094326\n",
       "4     team1_winp_team2_last15  0.084615\n",
       "5          team1AvgRunsMargin  0.084027\n",
       "6   team1only_avg_runs_last15  0.083391\n",
       "7           teamBatsFirstWins  0.080805\n",
       "8   teamBatsFirstWinsAtGround  0.072386\n",
       "9              tossWinnerWins  0.061480\n",
       "10            team1WinpSeries  0.061054\n",
       "11          team1WinpAtGround  0.054414"
      ]
     },
     "execution_count": 184,
     "metadata": {},
     "output_type": "execute_result"
    }
   ],
   "source": [
    "a = list(zip(cols, gs_xgb.best_estimator_.feature_importances_))\n",
    "a.sort(key=lambda x: x[1], reverse=True)\n",
    "pd.DataFrame(a)"
   ]
  },
  {
   "cell_type": "code",
   "execution_count": 140,
   "metadata": {},
   "outputs": [
    {
     "name": "stdout",
     "output_type": "stream",
     "text": [
      "Best parameters are: {'depth': 5, 'learning_rate': 0.01, 'min_data_in_leaf': 10, 'subsample': 0.2}\n",
      "Accuracy: 0.5683453237410072\n"
     ]
    }
   ],
   "source": [
    "# CATBOOST\n",
    "clf_cat = cat.CatBoostClassifier(iterations= 100, random_state=0, verbose=0)\n",
    "param_cat = {'learning_rate':[0.01, 0.05, 0.1, 0.2],\n",
    "            'depth':[3,5,7,9],\n",
    "            'subsample':[0.05, 0.1, 0.2, 0.5],\n",
    "            'min_data_in_leaf':[10,40,70,100]}\n",
    "\n",
    "clf_cat = GridSearchCV(clf_cat, param_cat, cv=5, n_jobs=-1)\n",
    "clf_cat.fit(X_train, y_train)\n",
    "print(f\"Best parameters are: {clf_cat.best_params_}\")\n",
    "y_pred = clf_cat.predict(X_test)\n",
    "acc = np.mean(y_pred == y_test)\n",
    "print(f'Accuracy: {acc}')"
   ]
  },
  {
   "cell_type": "code",
   "execution_count": 141,
   "metadata": {},
   "outputs": [
    {
     "data": {
      "text/html": [
       "<div>\n",
       "<style scoped>\n",
       "    .dataframe tbody tr th:only-of-type {\n",
       "        vertical-align: middle;\n",
       "    }\n",
       "\n",
       "    .dataframe tbody tr th {\n",
       "        vertical-align: top;\n",
       "    }\n",
       "\n",
       "    .dataframe thead th {\n",
       "        text-align: right;\n",
       "    }\n",
       "</style>\n",
       "<table border=\"1\" class=\"dataframe\">\n",
       "  <thead>\n",
       "    <tr style=\"text-align: right;\">\n",
       "      <th></th>\n",
       "      <th>Feature Id</th>\n",
       "      <th>Importances</th>\n",
       "    </tr>\n",
       "  </thead>\n",
       "  <tbody>\n",
       "    <tr>\n",
       "      <th>0</th>\n",
       "      <td>team_count_50runs_last15</td>\n",
       "      <td>19.932483</td>\n",
       "    </tr>\n",
       "    <tr>\n",
       "      <th>1</th>\n",
       "      <td>team_winp_last5</td>\n",
       "      <td>14.483663</td>\n",
       "    </tr>\n",
       "    <tr>\n",
       "      <th>2</th>\n",
       "      <td>ground_avg_runs_last15</td>\n",
       "      <td>13.496552</td>\n",
       "    </tr>\n",
       "    <tr>\n",
       "      <th>3</th>\n",
       "      <td>team1AvgRunsMargin</td>\n",
       "      <td>10.955421</td>\n",
       "    </tr>\n",
       "    <tr>\n",
       "      <th>4</th>\n",
       "      <td>tossWinnerWins</td>\n",
       "      <td>8.882296</td>\n",
       "    </tr>\n",
       "    <tr>\n",
       "      <th>5</th>\n",
       "      <td>teamBatsFirstWins</td>\n",
       "      <td>8.290404</td>\n",
       "    </tr>\n",
       "    <tr>\n",
       "      <th>6</th>\n",
       "      <td>team1only_avg_runs_last15</td>\n",
       "      <td>7.918128</td>\n",
       "    </tr>\n",
       "    <tr>\n",
       "      <th>7</th>\n",
       "      <td>team1WinpSeries</td>\n",
       "      <td>5.154531</td>\n",
       "    </tr>\n",
       "    <tr>\n",
       "      <th>8</th>\n",
       "      <td>team1_winp_team2_last15</td>\n",
       "      <td>4.900081</td>\n",
       "    </tr>\n",
       "    <tr>\n",
       "      <th>9</th>\n",
       "      <td>team1WinpLight</td>\n",
       "      <td>3.251382</td>\n",
       "    </tr>\n",
       "    <tr>\n",
       "      <th>10</th>\n",
       "      <td>team1WinpAtGround</td>\n",
       "      <td>1.488339</td>\n",
       "    </tr>\n",
       "    <tr>\n",
       "      <th>11</th>\n",
       "      <td>teamBatsFirstWinsAtGround</td>\n",
       "      <td>1.246721</td>\n",
       "    </tr>\n",
       "  </tbody>\n",
       "</table>\n",
       "</div>"
      ],
      "text/plain": [
       "                   Feature Id  Importances\n",
       "0    team_count_50runs_last15    19.932483\n",
       "1             team_winp_last5    14.483663\n",
       "2      ground_avg_runs_last15    13.496552\n",
       "3          team1AvgRunsMargin    10.955421\n",
       "4              tossWinnerWins     8.882296\n",
       "5           teamBatsFirstWins     8.290404\n",
       "6   team1only_avg_runs_last15     7.918128\n",
       "7             team1WinpSeries     5.154531\n",
       "8     team1_winp_team2_last15     4.900081\n",
       "9              team1WinpLight     3.251382\n",
       "10          team1WinpAtGround     1.488339\n",
       "11  teamBatsFirstWinsAtGround     1.246721"
      ]
     },
     "execution_count": 141,
     "metadata": {},
     "output_type": "execute_result"
    }
   ],
   "source": [
    "clf_cat.best_estimator_.get_feature_importance(prettified=True)"
   ]
  },
  {
   "cell_type": "code",
   "execution_count": 142,
   "metadata": {},
   "outputs": [
    {
     "name": "stdout",
     "output_type": "stream",
     "text": [
      "Best parameters are: {'learning_rate': 0.01, 'max_depth': 5, 'min_samples_split': 15, 'n_estimators': 200, 'subsample': 0.05}\n",
      "Accuracy: 0.5359712230215827\n"
     ]
    }
   ],
   "source": [
    "# GB\n",
    "clf_gb = GradientBoostingClassifier(random_state=0)\n",
    "param_gb = {'learning_rate':[0.01, 0.05, 0.1, 0.2],\n",
    "            'max_depth':[3,5,7,9],\n",
    "            'n_estimators':[50,100,200,500],\n",
    "            'subsample':[0.05, 0.1, 0.2, 0.5],\n",
    "            'min_samples_split':[2,5,10,15]}\n",
    "\n",
    "clf_gb = GridSearchCV(clf_gb, param_gb, cv=5, n_jobs=-1)\n",
    "clf_gb.fit(X_train, y_train)\n",
    "print(f\"Best parameters are: {clf_gb.best_params_}\")\n",
    "y_pred = clf_gb.predict(X_test)\n",
    "acc = np.mean(y_pred == y_test)\n",
    "print(f'Accuracy: {acc}')"
   ]
  },
  {
   "cell_type": "code",
   "execution_count": 143,
   "metadata": {},
   "outputs": [
    {
     "data": {
      "text/plain": [
       "[('team1only_avg_runs_last15', 0.18297631338590617),\n",
       " ('team_count_50runs_last15', 0.1647814263835458),\n",
       " ('ground_avg_runs_last15', 0.15185736698936908),\n",
       " ('team1AvgRunsMargin', 0.14459407414173786),\n",
       " ('team_winp_last5', 0.1118761670634373),\n",
       " ('tossWinnerWins', 0.07084008482562533),\n",
       " ('team1_winp_team2_last15', 0.05733567230240002),\n",
       " ('teamBatsFirstWins', 0.04715559824897765),\n",
       " ('team1WinpSeries', 0.02930069659172903),\n",
       " ('team1WinpLight', 0.015183492627022933),\n",
       " ('team1WinpAtGround', 0.014293781401351372),\n",
       " ('teamBatsFirstWinsAtGround', 0.009805326038897427)]"
      ]
     },
     "execution_count": 143,
     "metadata": {},
     "output_type": "execute_result"
    }
   ],
   "source": [
    "feature_importances = clf_gb.best_estimator_.feature_importances_\n",
    "a = list(zip(cols, feature_importances))\n",
    "a.sort(key=lambda x: x[1], reverse=True)\n",
    "a"
   ]
  },
  {
   "cell_type": "code",
   "execution_count": 185,
   "metadata": {},
   "outputs": [
    {
     "name": "stdout",
     "output_type": "stream",
     "text": [
      "Best parameters are: {'learning_rate': 0.01, 'max_depth': 3, 'min_data_in_leaf': 100}\n",
      "Accuracy: 0.579136690647482\n"
     ]
    }
   ],
   "source": [
    "# LGB\n",
    "clf_lgb = lgb.LGBMClassifier(random_state=0, verbose=-1, num_leaves = 5)\n",
    "param_lgb = {'learning_rate': [0.01, 0.05, 0.1, 0.2],\n",
    "            'min_data_in_leaf':[10,40,70,100],\n",
    "            'max_depth':[3,5,7,9],}\n",
    "\n",
    "clf_lgb = GridSearchCV(clf_lgb, param_lgb, cv=5, n_jobs=-1)\n",
    "clf_lgb.fit(X_train, y_train)\n",
    "print(f\"Best parameters are: {clf_lgb.best_params_}\")\n",
    "y_pred = clf_lgb.predict(X_test)\n",
    "acc = np.mean(y_pred == y_test)\n",
    "print(f'Accuracy: {acc}')"
   ]
  },
  {
   "cell_type": "code",
   "execution_count": 186,
   "metadata": {},
   "outputs": [
    {
     "data": {
      "text/plain": [
       "[('team_count_50runs_last15', 115),\n",
       " ('team1AvgRunsMargin', 94),\n",
       " ('ground_avg_runs_last15', 66),\n",
       " ('team_winp_last5', 54),\n",
       " ('tossWinnerWins', 33),\n",
       " ('team1only_avg_runs_last15', 20),\n",
       " ('teamBatsFirstWins', 12),\n",
       " ('team1_winp_team2_last15', 0),\n",
       " ('teamBatsFirstWinsAtGround', 0),\n",
       " ('team1WinpAtGround', 0),\n",
       " ('team1WinpLight', 0),\n",
       " ('team1WinpSeries', 0)]"
      ]
     },
     "execution_count": 186,
     "metadata": {},
     "output_type": "execute_result"
    }
   ],
   "source": [
    "feature_importances = clf_lgb.best_estimator_.feature_importances_\n",
    "a = list(zip(cols, feature_importances))\n",
    "a.sort(key=lambda x: x[1], reverse=True)\n",
    "a"
   ]
  },
  {
   "cell_type": "code",
   "execution_count": 187,
   "metadata": {},
   "outputs": [
    {
     "name": "stdout",
     "output_type": "stream",
     "text": [
      "Accuracy for ensemble: 0.5503597122302158\n"
     ]
    }
   ],
   "source": [
    "# Testing the model\n",
    "train_data_test = train_data.copy()\n",
    "train_data_test.sort_values(by='match_dt', inplace=True)\n",
    "X_train, y_train, X_test, y_test = train_data_test[cols][:670], train_data_test['winner_01'][:670], train_data_test[cols][670:], train_data_test['winner_01'][670:]\n",
    "\n",
    "clf_xgb = gs_xgb.best_estimator_\n",
    "# clf_cat = clf_cat.best_estimator_\n",
    "# clf_gb = clf_gb.best_estimator_\n",
    "clf_lgbm = clf_lgb.best_estimator_\n",
    "\n",
    "models = {\n",
    "    'xgb': clf_xgb,\n",
    "    # 'cat': clf_cat,\n",
    "    # 'gb' : clf_gb\n",
    "    'lgbm': clf_lgbm\n",
    "\n",
    "}\n",
    "\n",
    "trained_models = [(name, model) for name, model in models.items()]\n",
    "\n",
    "ensemble = VotingClassifier(estimators=trained_models, voting='soft', verbose=False, n_jobs=-1)\n",
    "ensemble.fit(X_train, y_train)\n",
    "y_pred = ensemble.predict(X_test)\n",
    "\n",
    "acc = np.mean(y_pred == y_test)\n",
    "print(f'Accuracy for ensemble: {acc}')"
   ]
  },
  {
   "cell_type": "code",
   "execution_count": 188,
   "metadata": {},
   "outputs": [
    {
     "data": {
      "text/html": [
       "<div>\n",
       "<style scoped>\n",
       "    .dataframe tbody tr th:only-of-type {\n",
       "        vertical-align: middle;\n",
       "    }\n",
       "\n",
       "    .dataframe tbody tr th {\n",
       "        vertical-align: top;\n",
       "    }\n",
       "\n",
       "    .dataframe thead th {\n",
       "        text-align: right;\n",
       "    }\n",
       "</style>\n",
       "<table border=\"1\" class=\"dataframe\">\n",
       "  <thead>\n",
       "    <tr style=\"text-align: right;\">\n",
       "      <th></th>\n",
       "      <th>feat_name</th>\n",
       "      <th>model_feat_imp_train</th>\n",
       "    </tr>\n",
       "  </thead>\n",
       "  <tbody>\n",
       "    <tr>\n",
       "      <th>0</th>\n",
       "      <td>team_count_50runs_last15</td>\n",
       "      <td>57.557110</td>\n",
       "    </tr>\n",
       "    <tr>\n",
       "      <th>1</th>\n",
       "      <td>team1AvgRunsMargin</td>\n",
       "      <td>47.042013</td>\n",
       "    </tr>\n",
       "    <tr>\n",
       "      <th>2</th>\n",
       "      <td>ground_avg_runs_last15</td>\n",
       "      <td>33.049603</td>\n",
       "    </tr>\n",
       "    <tr>\n",
       "      <th>3</th>\n",
       "      <td>team_winp_last5</td>\n",
       "      <td>27.055038</td>\n",
       "    </tr>\n",
       "    <tr>\n",
       "      <th>4</th>\n",
       "      <td>tossWinnerWins</td>\n",
       "      <td>16.530740</td>\n",
       "    </tr>\n",
       "    <tr>\n",
       "      <th>5</th>\n",
       "      <td>team1only_avg_runs_last15</td>\n",
       "      <td>10.041696</td>\n",
       "    </tr>\n",
       "    <tr>\n",
       "      <th>6</th>\n",
       "      <td>teamBatsFirstWins</td>\n",
       "      <td>6.040402</td>\n",
       "    </tr>\n",
       "    <tr>\n",
       "      <th>7</th>\n",
       "      <td>team1WinpLight</td>\n",
       "      <td>0.047163</td>\n",
       "    </tr>\n",
       "    <tr>\n",
       "      <th>8</th>\n",
       "      <td>team1_winp_team2_last15</td>\n",
       "      <td>0.042307</td>\n",
       "    </tr>\n",
       "    <tr>\n",
       "      <th>9</th>\n",
       "      <td>teamBatsFirstWinsAtGround</td>\n",
       "      <td>0.036193</td>\n",
       "    </tr>\n",
       "    <tr>\n",
       "      <th>10</th>\n",
       "      <td>team1WinpSeries</td>\n",
       "      <td>0.030527</td>\n",
       "    </tr>\n",
       "    <tr>\n",
       "      <th>11</th>\n",
       "      <td>team1WinpAtGround</td>\n",
       "      <td>0.027207</td>\n",
       "    </tr>\n",
       "  </tbody>\n",
       "</table>\n",
       "</div>"
      ],
      "text/plain": [
       "                    feat_name  model_feat_imp_train\n",
       "0    team_count_50runs_last15             57.557110\n",
       "1          team1AvgRunsMargin             47.042013\n",
       "2      ground_avg_runs_last15             33.049603\n",
       "3             team_winp_last5             27.055038\n",
       "4              tossWinnerWins             16.530740\n",
       "5   team1only_avg_runs_last15             10.041696\n",
       "6           teamBatsFirstWins              6.040402\n",
       "7              team1WinpLight              0.047163\n",
       "8     team1_winp_team2_last15              0.042307\n",
       "9   teamBatsFirstWinsAtGround              0.036193\n",
       "10            team1WinpSeries              0.030527\n",
       "11          team1WinpAtGround              0.027207"
      ]
     },
     "execution_count": 188,
     "metadata": {},
     "output_type": "execute_result"
    }
   ],
   "source": [
    "feature_importance = np.mean(np.array([clf.feature_importances_ for clf in ensemble.estimators_]), axis=0)\n",
    "a = list(zip(cols, feature_importance))\n",
    "a.sort(key=lambda x: x[1], reverse=True)\n",
    "feature_importance = pd.DataFrame(a, columns=['feat_name', 'model_feat_imp_train'])\n",
    "feature_importance"
   ]
  },
  {
   "cell_type": "markdown",
   "metadata": {},
   "source": [
    "## Actual"
   ]
  },
  {
   "cell_type": "code",
   "execution_count": 14,
   "metadata": {},
   "outputs": [],
   "source": [
    "X_train, y_train, X_test = train_data[cols], train_data['winner_01'], test_data[cols]"
   ]
  },
  {
   "cell_type": "code",
   "execution_count": 192,
   "metadata": {},
   "outputs": [],
   "source": [
    "# X_train, y_train, X_test = train_data[cols], train_data['winner_01'], test_data[cols]\n",
    "# clf_xgb = gs_xgb.best_estimator_\n",
    "# clf_lgbm = clf_lgb.best_estimator_\n",
    "\n",
    "# models = {\n",
    "#     'xgb': clf_xgb,\n",
    "#     'lgbm': clf_lgbm\n",
    "\n",
    "# }\n",
    "\n",
    "# trained_models = [(name, model) for name, model in models.items()]\n",
    "\n",
    "# ensemble = VotingClassifier(estimators=trained_models, voting='soft', verbose=False, n_jobs=-1)\n",
    "# ensemble.fit(X_train, y_train)"
   ]
  },
  {
   "cell_type": "code",
   "execution_count": 191,
   "metadata": {},
   "outputs": [],
   "source": [
    "# feature_importance = np.mean(np.array([clf.feature_importances_ for clf in ensemble.estimators_]), axis=0)\n",
    "# a = list(zip(cols, feature_importance))\n",
    "# a.sort(key=lambda x: x[1], reverse=True)\n",
    "# feature_importance = pd.DataFrame(a, columns=['feat_name', 'model_feat_imp_train'])\n",
    "# feature_importance"
   ]
  },
  {
   "cell_type": "code",
   "execution_count": 15,
   "metadata": {},
   "outputs": [
    {
     "name": "stdout",
     "output_type": "stream",
     "text": [
      "Best parameters are: {'learning_rate': 0.05, 'max_depth': 5, 'min_data_in_leaf': 100}\n"
     ]
    }
   ],
   "source": [
    "# LGB\n",
    "clf_lgb = lgb.LGBMClassifier(random_state=0, verbose=-1, num_leaves = 5)\n",
    "param_lgb = {'learning_rate': [0.01, 0.05, 0.1, 0.2],\n",
    "            'min_data_in_leaf':[10,40,70,100],\n",
    "            'max_depth':[3,5,7,9],}\n",
    "\n",
    "clf_lgb = GridSearchCV(clf_lgb, param_lgb, cv=5, n_jobs=-1)\n",
    "clf_lgb.fit(X_train, y_train)\n",
    "print(f\"Best parameters are: {clf_lgb.best_params_}\")"
   ]
  },
  {
   "cell_type": "code",
   "execution_count": 16,
   "metadata": {},
   "outputs": [],
   "source": [
    "feature_desc = {'ground_avg_runs_last15':'average runs scored in the ground in last 15 games',\n",
    "                'team_count_50runs_last15':'Ratio of number of 50s by players in team1 to number of 50s by players in team2 in last 15 games',\n",
    "                'team1only_avg_runs_last15':'team1\\'s avg inning runs in last 15 games',\n",
    "                'team_winp_last5':'Ratio of team1\\'s win % to team2\\'s win % in last 5 games',\n",
    "                'tossWinnerWins': 'Ratio of toss winner winning past matches',\n",
    "                'teamBatsFirstWins': 'Ratio of team batting first winning past matches',\n",
    "                'team1WinpSeries': 'Ratio of team1\\'s win % to team2\\'s win % in given series',\n",
    "                'team1_winp_team2_last15':'Team1\\'s win percentage against Team2 in last 15 games',\n",
    "                'team1WinpAtGround': 'iRatio of team1\\'s win % to team2\\'s win % in given ground',\n",
    "                'team1WinpLight': 'Ratio of team1\\'s win % to team2\\'s win % in given lighting',\n",
    "                'team1AvgRunsMargin': 'Ratio of team1\\'s average runs margin to team2\\'s average runs margin in last 15 games',}"
   ]
  },
  {
   "cell_type": "code",
   "execution_count": 28,
   "metadata": {},
   "outputs": [
    {
     "data": {
      "text/plain": [
       "array([50, 64, 62, 14, 73, 32, 22,  4, 13, 10, 15, 41])"
      ]
     },
     "execution_count": 28,
     "metadata": {},
     "output_type": "execute_result"
    }
   ],
   "source": [
    "clf_lgb.best_estimator_.feature_importances_"
   ]
  },
  {
   "cell_type": "code",
   "execution_count": 32,
   "metadata": {},
   "outputs": [],
   "source": [
    "feature_importance = clf_lgb.best_estimator_.feature_importances_\n",
    "a = list(zip(cols, feature_importance))\n",
    "a.sort(key=lambda x: x[1], reverse=True)\n",
    "feature_importance = pd.DataFrame(a, columns=['feat_name', 'model_feat_imp_train']).head(10)\n",
    "feature_importance['model_feat_imp_train'] = feature_importance['model_feat_imp_train']/feature_importance['model_feat_imp_train'].max()\n",
    "feature_importance['feat_description'] = feature_importance['feat_name'].map(feature_desc)\n",
    "feature_importance['feat_id'] = [i+1 for i in feature_importance.index]\n",
    "feature_importance['feat_rank_train'] = [i+1 for i in feature_importance.index]"
   ]
  },
  {
   "cell_type": "code",
   "execution_count": 18,
   "metadata": {},
   "outputs": [],
   "source": [
    "train_data['y_pred_01'] = clf_lgb.predict(X_train)\n",
    "test_data['y_pred_01'] = clf_lgb.predict(X_test)\n",
    "\n",
    "train_data['win_pred_score'] = clf_lgb.predict_proba(X_train)[:,1]\n",
    "test_data['win_pred_score'] = clf_lgb.predict_proba(X_test)[:,1]\n",
    "\n",
    "train_data['win_pred_score'] = np.where( (train_data['y_pred_01']==0), (1-train_data['win_pred_score']), train_data['win_pred_score'])\n",
    "test_data['win_pred_score'] = np.where( (test_data['y_pred_01']==0), (1-test_data['win_pred_score']), test_data['win_pred_score'])\n",
    "\n",
    "train_data['win_pred_team_id'] = np.where( (train_data['y_pred_01']==1), (train_data['team1_id']), train_data['team2_id'])\n",
    "test_data['win_pred_team_id'] = np.where( (test_data['y_pred_01']==1), (test_data['team1_id']), test_data['team2_id'])"
   ]
  },
  {
   "cell_type": "code",
   "execution_count": 24,
   "metadata": {},
   "outputs": [],
   "source": [
    "## refactor\n",
    "train_data['dataset_type'] = 'train'\n",
    "train_data['train_algorithm'] = 'lightgbm'\n",
    "train_data['is_ensemble'] = 'no'\n",
    "train_data['train_hps_trees'] = clf_lgb.best_estimator_.n_estimators_\n",
    "train_data['train_hps_depth'] = clf_lgb.best_estimator_.max_depth\n",
    "train_data['train_hps_lr'] = clf_lgb.best_estimator_.learning_rate\n",
    "train_data['match id'] = train_data['match_id']\n",
    "\n",
    "test_data['dataset_type'] = 'r1'\n",
    "test_data['train_algorithm'] = 'lightgbm'\n",
    "test_data['is_ensemble'] = 'no'\n",
    "test_data['train_hps_trees'] = clf_lgb.best_estimator_.n_estimators_\n",
    "test_data['train_hps_depth'] = clf_lgb.best_estimator_.max_depth\n",
    "test_data['train_hps_lr'] = clf_lgb.best_estimator_.learning_rate\n",
    "test_data['match id'] = test_data['match_id']\n",
    "\n",
    "df_file1 = pd.concat([test_data[['match id','dataset_type','win_pred_team_id','win_pred_score','train_algorithm', 'is_ensemble', 'train_hps_trees', 'train_hps_depth', 'train_hps_lr'] + list(feature_importance['feat_name'].head(10))], \\\n",
    "                     train_data[['match id','dataset_type','win_pred_team_id','win_pred_score','train_algorithm', 'is_ensemble', 'train_hps_trees', 'train_hps_depth', 'train_hps_lr'] + list(feature_importance['feat_name'].head(10))]])\n",
    "\n",
    "renaming_dict = {}\n",
    "for i,col in enumerate(list(feature_importance['feat_name'].head(10))):\n",
    "    renaming_dict[col] = f'indep_feat_id{i+1}'\n",
    "df_file1.rename(columns=renaming_dict, inplace=True)\n",
    "\n",
    "for i in range(1,11):\n",
    "    if f'indep_feat_id{i}' not in df_file1.columns:\n",
    "        df_file1[f'indep_feat_id{i}'] = np.nan"
   ]
  },
  {
   "cell_type": "code",
   "execution_count": 20,
   "metadata": {},
   "outputs": [
    {
     "data": {
      "text/plain": [
       "(1219, 19)"
      ]
     },
     "execution_count": 20,
     "metadata": {},
     "output_type": "execute_result"
    }
   ],
   "source": [
    "df_file1.shape"
   ]
  },
  {
   "cell_type": "code",
   "execution_count": 34,
   "metadata": {},
   "outputs": [],
   "source": [
    "df_file2 = feature_importance[['feat_id', 'feat_name', 'feat_description', 'model_feat_imp_train','feat_rank_train']]"
   ]
  },
  {
   "cell_type": "code",
   "execution_count": 35,
   "metadata": {},
   "outputs": [
    {
     "data": {
      "text/plain": [
       "(10, 5)"
      ]
     },
     "execution_count": 35,
     "metadata": {},
     "output_type": "execute_result"
    }
   ],
   "source": [
    "df_file2.shape"
   ]
  },
  {
   "cell_type": "code",
   "execution_count": 36,
   "metadata": {},
   "outputs": [],
   "source": [
    "df_file1.to_csv('sub/2/primary_submission.csv', index=False)\n",
    "df_file2.to_csv('sub/2/secondary_submission.csv', index=False)"
   ]
  }
 ],
 "metadata": {
  "kernelspec": {
   "display_name": "Python 3",
   "language": "python",
   "name": "python3"
  },
  "language_info": {
   "codemirror_mode": {
    "name": "ipython",
    "version": 3
   },
   "file_extension": ".py",
   "mimetype": "text/x-python",
   "name": "python",
   "nbconvert_exporter": "python",
   "pygments_lexer": "ipython3",
   "version": "3.9.0"
  }
 },
 "nbformat": 4,
 "nbformat_minor": 2
}
