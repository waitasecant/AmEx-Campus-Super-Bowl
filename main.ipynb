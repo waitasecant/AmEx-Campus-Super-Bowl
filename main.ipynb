{
 "cells": [
  {
   "cell_type": "code",
   "execution_count": 280,
   "metadata": {},
   "outputs": [],
   "source": [
    "# Importing libraries\n",
    "import pandas as pd\n",
    "import numpy as np\n",
    "import xgboost as xgb\n",
    "import lightgbm as lgb\n",
    "import catboost as cat\n",
    "from sklearn.ensemble import GradientBoostingClassifier\n",
    "from sklearn.model_selection import train_test_split\n",
    "from sklearn.model_selection import GridSearchCV"
   ]
  },
  {
   "cell_type": "code",
   "execution_count": 281,
   "metadata": {},
   "outputs": [],
   "source": [
    "# Helper function\n",
    "def to_datetime(df):\n",
    "    df['match_dt'] = pd.to_datetime(df['match_dt'], format='%Y-%m-%d')\n",
    "    return df\n",
    "\n",
    "def rm_blankspace(df):\n",
    "    df.rename(columns=lambda x: x.replace(' ', '_'), inplace=True)\n",
    "    return df\n",
    "\n",
    "def unwrap_rosters(df):\n",
    "    df['team1_roster_ids'] = df['team1_roster_ids'].apply(lambda x: x.split(':'))\n",
    "    df['team2_roster_ids'] = df['team2_roster_ids'].apply(lambda x: x.split(':'))\n",
    "    return df\n",
    "\n",
    "def data_preprocessing(df):\n",
    "    df = to_datetime(df)\n",
    "    df = rm_blankspace(df)\n",
    "    return df"
   ]
  },
  {
   "cell_type": "code",
   "execution_count": 282,
   "metadata": {},
   "outputs": [],
   "source": [
    "# Importing datset\n",
    "train_data = pd.read_csv('data//train_data.csv',)\n",
    "\n",
    "batsman_data = pd.read_csv('data//batsman_level_data.csv')\n",
    "\n",
    "bowler_data = pd.read_csv('data//bowler_level_data.csv')\n",
    "\n",
    "match_data = pd.read_csv('data//match_level_data.csv')\n",
    "\n",
    "test_data = pd.read_csv('data//round_1_sub_data.csv')"
   ]
  },
  {
   "cell_type": "code",
   "execution_count": 283,
   "metadata": {},
   "outputs": [],
   "source": [
    "train_data = data_preprocessing(train_data)\n",
    "train_data = unwrap_rosters(train_data)\n",
    "match_data = data_preprocessing(match_data)\n",
    "match_data = unwrap_rosters(match_data)\n",
    "test_data = data_preprocessing(test_data)\n",
    "test_data = unwrap_rosters(test_data)\n",
    "\n",
    "batsman_data = data_preprocessing(batsman_data)\n",
    "bowler_data = data_preprocessing(bowler_data)"
   ]
  },
  {
   "cell_type": "code",
   "execution_count": 284,
   "metadata": {},
   "outputs": [],
   "source": [
    "# Reordering columns\n",
    "match_data = match_data[['match_id', 'match_dt', 'team1', 'team1_id', 'team2', 'team2_id',\n",
    "        'toss_winner', 'toss_decision', 'venue', 'ground_id', 'city', 'lighting', 'series_name', 'season', 'series_type',\n",
    "        'winner', 'winner_id', 'by', 'win_amount', 'player_of_the_match_id',\n",
    "        'inning1_runs', 'inning1_wickets', 'inning1_balls', 'inning2_runs', 'inning2_wickets', 'inning2_balls',\n",
    "        'umpire1', 'umpire2', 'team1_roster_ids', 'team2_roster_ids']]\n",
    "\n",
    "train_data = train_data[['match_id', 'match_dt', 'team1', 'team1_id', 'team2', 'team2_id',\n",
    "       'toss_winner', 'toss_decision', 'venue', 'ground_id', 'city', 'lighting', 'series_name', 'season',\n",
    "       'winner', 'winner_id', 'team1_roster_ids', 'team2_roster_ids', 'team_count_50runs_last15',\n",
    "       'team_winp_last5', 'team1only_avg_runs_last15', 'team1_winp_team2_last15','ground_avg_runs_last15']]"
   ]
  },
  {
   "cell_type": "code",
   "execution_count": 285,
   "metadata": {},
   "outputs": [],
   "source": [
    "# Feature Engineering Functions\n",
    "\n",
    "def tossWinnerWins(team1_id, team2_id, date):\n",
    "    '''\n",
    "    Function to compute percent of games toss winner wins the game.\n",
    "    \n",
    "    Input-\n",
    "    1. team1_id: ID of team1\n",
    "    2. team2_id: ID of team2\n",
    "    3: date: match date of the current game for which the feature is to be calculated.\n",
    "    '''\n",
    "    match_data['tossWinnerWins'] = np.where(match_data['toss_winner'] == match_data['winner'], 1, 0)\n",
    "    df_rel = match_data[(match_data['match_dt']<date)&\\\n",
    "                        (((match_data['team1_id']==team1_id)&(match_data['team2_id']==team2_id))|\\\n",
    "                         ((match_data['team1_id']==team2_id)&(match_data['team2_id']==team1_id)))]\\\n",
    "                        .sort_values(by='match_dt', ascending=False)\n",
    "    \n",
    "    res = df_rel['tossWinnerWins'].values\n",
    "    if len(res)==0:\n",
    "        return 0\n",
    "    else:\n",
    "        return round(np.mean(df_rel['tossWinnerWins'].values),2)\n",
    "    \n",
    "def teamBatsFirstWins(team1_id, team2_id, date):\n",
    "    '''\n",
    "    Function to compute percent of games team that bats first wins the game.\n",
    "    \n",
    "    Input-\n",
    "    1. team1_id: ID of team1\n",
    "    2. team2_id: ID of team2\n",
    "    3: date: match date of the current game for which the feature is to be calculated.\n",
    "    '''\n",
    "    match_data['toss_decision_bats'] = np.where(match_data['toss_decision'] == 'bat', 1, 0)\n",
    "\n",
    "    match_data['teamBatsFirstWins'] = np.where(((match_data['tossWinnerWins'] == 1) & (match_data['toss_decision_bats'] == 1))\n",
    "                                          | ((match_data['tossWinnerWins'] == 0) & (match_data['toss_decision_bats'] == 0)), 1, 0)\n",
    "  \n",
    "    df_rel = match_data[(match_data['match_dt']<date)&\\\n",
    "                        (((match_data['team1_id']==team1_id)&(match_data['team2_id']==team2_id))|\\\n",
    "                         ((match_data['team1_id']==team2_id)&(match_data['team2_id']==team1_id)))]\\\n",
    "                        .sort_values(by='match_dt', ascending=False)\n",
    "\n",
    "    res = df_rel['teamBatsFirstWins'].values\n",
    "    if len(res)==0:\n",
    "        return 0\n",
    "    else:\n",
    "        return round(np.mean(df_rel['teamBatsFirstWins'].values),2)\n",
    "    \n",
    "def team1WinpAtGround(team1_id, team2_id, date, ground):\n",
    "    '''\n",
    "    Function to compute team1's win% against team2 from the current game at the given ground.\n",
    "    \n",
    "    Input-\n",
    "    1. team1_id: ID of team1 to calculate win% of.\n",
    "    2. team2_id: ID of team2 to calculate win% against.\n",
    "    3: date: match date of the current game for which the feature is to be calculated.\n",
    "    4. ground: Ground ID of the current game.\n",
    "    '''\n",
    "\n",
    "    df_rel1 = match_data[(match_data['match_dt']<date)&\\\n",
    "                        (match_data['ground_id'] == ground)&\\\n",
    "                      (((match_data['team1_id']==team1_id)&(match_data['team2_id']==team2_id))|\\\n",
    "                       ((match_data['team1_id']==team2_id)&(match_data['team2_id']==team1_id)))]\\\n",
    "                        .sort_values(by='match_dt', ascending=False)\n",
    "\n",
    "    df_rel2 = train_data[(train_data['match_dt']<date)&\\\n",
    "                        (train_data['ground_id'] == ground)&\\\n",
    "                      (((train_data['team1_id']==team1_id)&(train_data['team2_id']==team2_id))|\\\n",
    "                       ((train_data['team1_id']==team2_id)&(train_data['team2_id']==team1_id)))]\\\n",
    "                        .sort_values(by='match_dt', ascending=False)\n",
    "\n",
    "    df_rel = pd.concat([df_rel1[['winner_id']], df_rel2[['winner_id']]])\n",
    "    win_count = df_rel[df_rel['winner_id']==team1_id].shape[0]\n",
    "    if win_count == 0:\n",
    "        return 0\n",
    "    return round(win_count/df_rel.shape[0], 2)"
   ]
  },
  {
   "cell_type": "code",
   "execution_count": 286,
   "metadata": {},
   "outputs": [],
   "source": [
    "# tossWinnerWins\n",
    "train_data['tossWinnerWins'] = train_data.apply(lambda x: tossWinnerWins(x['team1_id'], x['team2_id'], x['match_dt']), axis=1)\n",
    "test_data['tossWinnerWins'] = test_data.apply(lambda x: tossWinnerWins(x['team1_id'], x['team2_id'], x['match_dt']), axis=1)\n",
    "\n",
    "# teamBatsFirstWins\n",
    "train_data['teamBatsFirstWins'] = train_data.apply(lambda x: teamBatsFirstWins(x['team1_id'], x['team2_id'], x['match_dt']), axis=1)\n",
    "test_data['teamBatsFirstWins'] = test_data.apply(lambda x: teamBatsFirstWins(x['team1_id'], x['team2_id'], x['match_dt']), axis=1)\n",
    "\n",
    "# team1WinpAtGround\n",
    "train_data['team1WinpAtGround'] = train_data.apply(lambda x: \\\n",
    "                                  team1WinpAtGround(x['team1_id'], x['team2_id'], x['match_dt'], x['ground_id']), axis=1)\n",
    "test_data['team1WinpAtGround'] = test_data.apply(lambda x: \\\n",
    "                                  team1WinpAtGround(x['team1_id'], x['team2_id'], x['match_dt'], x['ground_id']), axis=1)"
   ]
  },
  {
   "cell_type": "code",
   "execution_count": 290,
   "metadata": {},
   "outputs": [],
   "source": [
    "train_data['winner_01'] = train_data.apply(lambda x: 1 if (x['team1']==x['winner']) else 0, axis=1)"
   ]
  },
  {
   "cell_type": "code",
   "execution_count": 291,
   "metadata": {},
   "outputs": [],
   "source": [
    "cols = ['ground_avg_runs_last15', 'team1WinpAtGround',\n",
    "        'team1_winp_team2_last15', 'team1only_avg_runs_last15',\n",
    "        'teamBatsFirstWins', 'team_count_50runs_last15',\n",
    "        'team_winp_last5', 'tossWinnerWins']"
   ]
  },
  {
   "cell_type": "code",
   "execution_count": 292,
   "metadata": {},
   "outputs": [],
   "source": [
    "X,y = train_data[cols], train_data['winner_01']\n",
    "X_test = test_data[cols]"
   ]
  }
 ],
 "metadata": {
  "kernelspec": {
   "display_name": "Python 3",
   "language": "python",
   "name": "python3"
  },
  "language_info": {
   "codemirror_mode": {
    "name": "ipython",
    "version": 3
   },
   "file_extension": ".py",
   "mimetype": "text/x-python",
   "name": "python",
   "nbconvert_exporter": "python",
   "pygments_lexer": "ipython3",
   "version": "3.9.0"
  }
 },
 "nbformat": 4,
 "nbformat_minor": 2
}
